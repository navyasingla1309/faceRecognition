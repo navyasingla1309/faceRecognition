{
 "cells": [
  {
   "cell_type": "code",
   "execution_count": 5,
   "metadata": {},
   "outputs": [],
   "source": [
    "import cv2\n",
    "import numpy as np"
   ]
  },
  {
   "cell_type": "code",
   "execution_count": 6,
   "metadata": {},
   "outputs": [],
   "source": [
    "cap = cv2.VideoCapture(0)\n",
    "face = cv2.CascadeClassifier(\"haarcascade_frontalface_alt.xml\")\n",
    "skip = 0\n",
    "face_data = []\n",
    "## here 0 means default webcam\n",
    "while True:\n",
    "    ret, frame = cap.read()\n",
    "    if ret== False:\n",
    "        continue\n",
    "    gray = cv2.cvtColor(frame,cv2.COLOR_BGR2GRAY)\n",
    "    faces = face.detectMultiScale(gray,1.3,5)\n",
    "    faces = sorted(faces, key = lambda f:f[2]*f[3], reverse = True)\n",
    "    for fa in faces:\n",
    "        x,y,w,h = fa\n",
    "        cv2.rectangle(frame, (x,y), (x+w,y+h),(0,0,255),2)\n",
    "        ## cropping region of interest\n",
    "        offset = 10\n",
    "        face_sect = frame[y-offset: y+offset +h, x-offset: x+w+offset]\n",
    "        face_sect = cv2.resize(face_sect,(100,100))\n",
    "        face_data.append(face_sect)\n",
    "        cv2.imshow(\"SECTION\", face_sect)\n",
    "    cv2.imshow(\"IMAGE\",frame)\n",
    "    \n",
    "    key_pressed = cv2.waitKey(1) & 0XFF\n",
    "    if key_pressed == ord('q'):\n",
    "        break;\n",
    "## convert face_data into a numpy array\n",
    "cap.release()\n",
    "cv2.destroyAllWindows()\n"
   ]
  },
  {
   "cell_type": "code",
   "execution_count": 7,
   "metadata": {},
   "outputs": [
    {
     "name": "stdout",
     "output_type": "stream",
     "text": [
      "(67, 100, 100, 3)\n",
      "(67, 30000)\n"
     ]
    },
    {
     "name": "stdin",
     "output_type": "stream",
     "text": [
      "NAME:   Navya\n"
     ]
    }
   ],
   "source": [
    "face_data = np.array(face_data)\n",
    "print(face_data.shape)\n",
    "face_data = face_data.reshape((face_data.shape[0],-1))\n",
    "print(face_data.shape)\n",
    "path = 'face/'\n",
    "file = input(\"NAME:  \")\n",
    "np.save(path+ file+ '.npy', face_data)\n"
   ]
  },
  {
   "cell_type": "code",
   "execution_count": null,
   "metadata": {},
   "outputs": [],
   "source": []
  }
 ],
 "metadata": {
  "kernelspec": {
   "display_name": "Python 3",
   "language": "python",
   "name": "python3"
  },
  "language_info": {
   "codemirror_mode": {
    "name": "ipython",
    "version": 3
   },
   "file_extension": ".py",
   "mimetype": "text/x-python",
   "name": "python",
   "nbconvert_exporter": "python",
   "pygments_lexer": "ipython3",
   "version": "3.8.3"
  }
 },
 "nbformat": 4,
 "nbformat_minor": 4
}
